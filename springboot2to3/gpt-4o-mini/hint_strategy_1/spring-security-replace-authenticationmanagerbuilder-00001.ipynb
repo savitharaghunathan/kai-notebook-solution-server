{
 "cells": [
  {
   "cell_type": "markdown",
   "id": "83fe8cdb",
   "metadata": {},
   "source": [
    "# Hint Strategy 1\n",
    "This notebook demonstrates how an LLM performs when presented with a Spring Security migration issue and provide a hint that can be used to improve the basic rule.\n",
    "Installing pre requisites and configuring Kai with `GPT-4o-mini`"
   ]
  },
  {
   "cell_type": "code",
   "execution_count": null,
   "id": "d13f827b",
   "metadata": {},
   "outputs": [],
   "source": [
    "%pip uninstall kai -y\n",
    "%pip install --no-cache-dir git+https://github.com/konveyor/kai.git@main\n",
    "%pip install python-dotenv"
   ]
  },
  {
   "cell_type": "code",
   "execution_count": 23,
   "id": "a2c074f1",
   "metadata": {},
   "outputs": [],
   "source": [
    "from IPython.display import display, Markdown\n",
    "from kai.llm_interfacing.model_provider import ModelProvider\n",
    "from kai.kai_config import KaiConfigModels, SupportedModelProviders\n",
    "from dotenv import load_dotenv\n",
    "load_dotenv() \n",
    "\n",
    "# Initialize the model provider using GPT-4o via OpenAI\n",
    "model = ModelProvider.from_config(KaiConfigModels(\n",
    "    provider=SupportedModelProviders.CHAT_OPENAI,\n",
    "    args={\"model\": \"gpt-4o-mini\"},\n",
    "))\n",
    "\n",
    "# Async rendering function for displaying the response\n",
    "async def rendered_llm_call(prompt: str):\n",
    "    response = await model.ainvoke_llm(prompt)\n",
    "    display(Markdown(response.content))\n",
    "    return response\n",
    "\n"
   ]
  },
  {
   "cell_type": "markdown",
   "id": "788f1f7a",
   "metadata": {},
   "source": [
    "Below is the snippet we are trying to migrate from springboot2 to springboot3. This code uses the discouraged `configure(AuthenticationManagerBuilder)` method inside a `WebSecurityConfigurerAdapter`, both of which are deprecated in Spring Security 5.7+ and removed in Spring Boot 3.\n",
    "\n",
    "Our goal is to assess how well the LLM refactors this configuration without a hint, and whether it can replace deprecated patterns with the right approach."
   ]
  },
  {
   "cell_type": "code",
   "execution_count": 24,
   "id": "fdbd630a",
   "metadata": {},
   "outputs": [],
   "source": [
    "before_code = \"\"\"\\\n",
    "import org.springframework.context.annotation.Bean;\n",
    "import org.springframework.context.annotation.Configuration;\n",
    "import org.springframework.security.config.annotation.authentication.builders.AuthenticationManagerBuilder;\n",
    "import org.springframework.security.config.annotation.web.configuration.EnableWebSecurity;\n",
    "import org.springframework.security.config.annotation.web.configuration.WebSecurityConfigurerAdapter;\n",
    "import org.springframework.security.crypto.bcrypt.BCryptPasswordEncoder;\n",
    "import org.springframework.security.crypto.password.PasswordEncoder;\n",
    "\n",
    "@Configuration\n",
    "@EnableWebSecurity\n",
    "public class SecurityConfig extends WebSecurityConfigurerAdapter {\n",
    "    @Override\n",
    "    protected void configure(AuthenticationManagerBuilder auth) throws Exception {\n",
    "        auth.inMemoryAuthentication()\n",
    "            .withUser(\"user\")\n",
    "            .password(passwordEncoder().encode(\"password\"))\n",
    "            .roles(\"USER\");\n",
    "    }\n",
    "\n",
    "    @Bean\n",
    "    public PasswordEncoder passwordEncoder() {\n",
    "        return new BCryptPasswordEncoder();\n",
    "    }\n",
    "}\n",
    "\"\"\""
   ]
  },
  {
   "cell_type": "markdown",
   "id": "6daf1b66",
   "metadata": {},
   "source": [
    "This rule flags the use of `configure(AuthenticationManagerBuilder)`. In Spring Boot 3, developers should instead use a `UserDetailsService` and `PasswordEncoder` bean for authentication configuration."
   ]
  },
  {
   "cell_type": "code",
   "execution_count": 25,
   "id": "f8b91313",
   "metadata": {},
   "outputs": [],
   "source": [
    "hint_to_migrate=\"\"\"\\\n",
    "    \n",
    "  description: configure(AuthenticationManagerBuilder) override is discouraged since Spring Security 5.7.\n",
    "  message: |\n",
    "    Overriding `configure(AuthenticationManagerBuilder)` is **discouraged** in Spring Security 5.7.\n",
    "    Instead, define a `UserDetailsService` and `PasswordEncoder` bean.\n",
    "\n",
    "    \"\"\""
   ]
  },
  {
   "cell_type": "markdown",
   "id": "6bc6ec91",
   "metadata": {},
   "source": [
    "Similar example showing before and after migration"
   ]
  },
  {
   "cell_type": "code",
   "execution_count": 26,
   "id": "0e6cae8a",
   "metadata": {},
   "outputs": [],
   "source": [
    "example_before_code=\"\"\"\\\n",
    "\n",
    "@Configuration\n",
    "public class SecurityConfiguration extends WebSecurityConfigurerAdapter {\n",
    "    @Override\n",
    "    protected void configure(AuthenticationManagerBuilder auth) throws Exception {\n",
    "        UserDetails user = User.withDefaultPasswordEncoder()\n",
    "            .username(\"user\")\n",
    "            .password(\"password\")\n",
    "            .roles(\"USER\")\n",
    "            .build();\n",
    "        auth.inMemoryAuthentication()\n",
    "            .withUser(user);\n",
    "    }\n",
    "}\n",
    "\n",
    "\"\"\"\n",
    "\n",
    "example_after_code=\"\"\"\\\n",
    "@Configuration\n",
    "public class SecurityConfiguration {\n",
    "    @Bean\n",
    "    public InMemoryUserDetailsManager userDetailsService() {\n",
    "        UserDetails user = User.withDefaultPasswordEncoder()\n",
    "            .username(\"user\")\n",
    "            .password(\"password\")\n",
    "            .roles(\"USER\")\n",
    "            .build();\n",
    "        return new InMemoryUserDetailsManager(user);\n",
    "    }\n",
    "}\n",
    "\"\"\""
   ]
  },
  {
   "cell_type": "code",
   "execution_count": 29,
   "id": "0c3e498b",
   "metadata": {},
   "outputs": [],
   "source": [
    "prompt = f\"\"\"\n",
    "\n",
    "The following java code needs to be migrated from springboot2 to springboot3.\n",
    "\n",
    "```java\n",
    "{before_code}\n",
    "```\n",
    "I will provide you with an example before/after code migration\n",
    "```java\n",
    "{example_before_code}\n",
    "{example_after_code}\n",
    "```\n",
    "Use the following hint's description and message to migrate. \n",
    "\n",
    "{hint_to_migrate}\n",
    "\n",
    "Also, remove the deprecated and unused APIs and suggest the correct alternatives based on the migration needs. \n",
    "\n",
    "Can you provide a refactored version of {before_code} that is compatible with springboot3?\n",
    "Also, create a step by step process for the above migration? Summarize and create a hint with the changes.\n",
    "\n",
    "\"\"\""
   ]
  },
  {
   "cell_type": "code",
   "execution_count": 30,
   "id": "a674a799",
   "metadata": {},
   "outputs": [
    {
     "data": {
      "text/markdown": [
       "To migrate your Spring Boot 2 security configuration to Spring Boot 3, you need to make several changes due to the deprecation of certain methods and classes in Spring Security 5.7 and later. Below is the refactored code and a step-by-step migration process.\n",
       "\n",
       "### Refactored Code\n",
       "\n",
       "```java\n",
       "import org.springframework.context.annotation.Bean;\n",
       "import org.springframework.context.annotation.Configuration;\n",
       "import org.springframework.security.config.annotation.web.builders.HttpSecurity;\n",
       "import org.springframework.security.config.annotation.web.configuration.EnableWebSecurity;\n",
       "import org.springframework.security.config.annotation.web.configuration.WebSecurityConfigurerAdapter;\n",
       "import org.springframework.security.config.annotation.authentication.builders.AuthenticationManagerBuilder;\n",
       "import org.springframework.security.crypto.bcrypt.BCryptPasswordEncoder;\n",
       "import org.springframework.security.crypto.password.PasswordEncoder;\n",
       "import org.springframework.security.core.userdetails.User;\n",
       "import org.springframework.security.core.userdetails.UserDetails;\n",
       "import org.springframework.security.core.userdetails.UserDetailsService;\n",
       "import org.springframework.security.provisioning.InMemoryUserDetailsManager;\n",
       "\n",
       "@Configuration\n",
       "@EnableWebSecurity\n",
       "public class SecurityConfig {\n",
       "\n",
       "    @Bean\n",
       "    public UserDetailsService userDetailsService() {\n",
       "        UserDetails user = User.withUsername(\"user\")\n",
       "            .password(passwordEncoder().encode(\"password\"))\n",
       "            .roles(\"USER\")\n",
       "            .build();\n",
       "        return new InMemoryUserDetailsManager(user);\n",
       "    }\n",
       "\n",
       "    @Bean\n",
       "    public PasswordEncoder passwordEncoder() {\n",
       "        return new BCryptPasswordEncoder();\n",
       "    }\n",
       "\n",
       "    @Bean\n",
       "    public SecurityFilterChain securityFilterChain(HttpSecurity http) throws Exception {\n",
       "        http\n",
       "            .authorizeRequests()\n",
       "            .anyRequest().authenticated()\n",
       "            .and()\n",
       "            .formLogin();\n",
       "        return http.build();\n",
       "    }\n",
       "}\n",
       "```\n",
       "\n",
       "### Step-by-Step Migration Process\n",
       "\n",
       "1. **Remove `WebSecurityConfigurerAdapter`:**\n",
       "   - The `WebSecurityConfigurerAdapter` class is deprecated. Instead, you will define a `SecurityFilterChain` bean.\n",
       "\n",
       "2. **Define `UserDetailsService`:**\n",
       "   - Instead of overriding `configure(AuthenticationManagerBuilder)`, create a `UserDetailsService` bean that returns an `InMemoryUserDetailsManager` with the user details.\n",
       "\n",
       "3. **Define `PasswordEncoder`:**\n",
       "   - Keep the `PasswordEncoder` bean as it is, since it is still relevant for encoding passwords.\n",
       "\n",
       "4. **Create a `SecurityFilterChain` Bean:**\n",
       "   - Define a `SecurityFilterChain` bean to configure HTTP security settings, such as authorization and login.\n",
       "\n",
       "5. **Update Imports:**\n",
       "   - Ensure that you import the necessary classes for the new configuration, such as `SecurityFilterChain`, `HttpSecurity`, and `UserDetailsService`.\n",
       "\n",
       "### Summary of Changes\n",
       "\n",
       "- Removed the `WebSecurityConfigurerAdapter` class.\n",
       "- Created a `UserDetailsService` bean instead of overriding `configure(AuthenticationManagerBuilder)`.\n",
       "- Defined a `SecurityFilterChain` bean to handle HTTP security configurations.\n",
       "- Kept the `PasswordEncoder` bean for password encoding.\n",
       "\n",
       "### Hint for Migration\n",
       "\n",
       "**Migration Hint:**\n",
       "- Overriding `configure(AuthenticationManagerBuilder)` is discouraged in Spring Security 5.7. Instead, define a `UserDetailsService` and a `SecurityFilterChain` bean for configuring authentication and authorization."
      ],
      "text/plain": [
       "<IPython.core.display.Markdown object>"
      ]
     },
     "metadata": {},
     "output_type": "display_data"
    }
   ],
   "source": [
    "\n",
    "response = await rendered_llm_call(prompt)"
   ]
  },
  {
   "cell_type": "markdown",
   "id": "6a333706",
   "metadata": {},
   "source": [
    "### Evaluation\n",
    "\n",
    "| Criteria                                                                 | Result         |\n",
    "|--------------------------------------------------------------------------|----------------|\n",
    "| Removed deprecated `configure(AuthenticationManagerBuilder)`            |  Yes           |\n",
    "| Replaced with `UserDetailsService` and `PasswordEncoder` bean           |  Yes |\n",
    "| Removed `WebSecurityConfigurerAdapter`                                   |  No           |\n",
    "| The output compiles                                                      | <todo>          |\n",
    "| Preserves behavior (in-memory auth, user with role)                      | Yes        |"
   ]
  }
 ],
 "metadata": {
  "kernelspec": {
   "display_name": ".venv",
   "language": "python",
   "name": "python3"
  },
  "language_info": {
   "codemirror_mode": {
    "name": "ipython",
    "version": 3
   },
   "file_extension": ".py",
   "mimetype": "text/x-python",
   "name": "python",
   "nbconvert_exporter": "python",
   "pygments_lexer": "ipython3",
   "version": "3.13.2"
  }
 },
 "nbformat": 4,
 "nbformat_minor": 5
}
