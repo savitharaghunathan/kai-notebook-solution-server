{
 "cells": [
  {
   "cell_type": "markdown",
   "id": "83fe8cdb",
   "metadata": {},
   "source": [
    "# Poor hint Migration \n",
    "This notebook demonstrates how an LLM performs when presented with a Spring Security migration issue without an example.\n",
    "\n",
    "Installing pre requisites and configuring Kai with `GPT-3.5-turbo`"
   ]
  },
  {
   "cell_type": "code",
   "execution_count": null,
   "id": "d13f827b",
   "metadata": {},
   "outputs": [],
   "source": [
    "%pip uninstall kai -y\n",
    "%pip install --no-cache-dir git+https://github.com/konveyor/kai.git@main\n",
    "%pip install python-dotenv"
   ]
  },
  {
   "cell_type": "code",
   "execution_count": 2,
   "id": "a2c074f1",
   "metadata": {},
   "outputs": [
    {
     "name": "stderr",
     "output_type": "stream",
     "text": [
      "/Users/sraghuna/local_dev/kai-notebook-solution-server/.venv/lib/python3.13/site-packages/tqdm/auto.py:21: TqdmWarning: IProgress not found. Please update jupyter and ipywidgets. See https://ipywidgets.readthedocs.io/en/stable/user_install.html\n",
      "  from .autonotebook import tqdm as notebook_tqdm\n"
     ]
    }
   ],
   "source": [
    "from IPython.display import display, Markdown\n",
    "from kai.llm_interfacing.model_provider import ModelProvider\n",
    "from kai.kai_config import KaiConfigModels, SupportedModelProviders\n",
    "from dotenv import load_dotenv\n",
    "import os\n",
    "load_dotenv(override=True) \n",
    "# Initialize the model provider using GPT-4o via OpenAI\n",
    "model = ModelProvider.from_config(KaiConfigModels(\n",
    "    provider=SupportedModelProviders.CHAT_OPENAI,\n",
    "    args={\"model\": \"granite-8b-code-instruct-128k\",\n",
    "        \"base_url\": \"https://granite-8b-code-instruct-maas-apicast-production.apps.prod.rhoai.rh-aiservices-bu.com:443/v1\",\n",
    "        \"api_key\": os.getenv(\"OPENAI_API_KEY\"),},\n",
    "))\n",
    "\n",
    "# Async rendering function for displaying the response\n",
    "async def rendered_llm_call(prompt: str):\n",
    "    response = await model.ainvoke_llm(prompt)\n",
    "    display(Markdown(response.content))\n",
    "    return response\n",
    "\n"
   ]
  },
  {
   "cell_type": "markdown",
   "id": "788f1f7a",
   "metadata": {},
   "source": [
    "Below is the snippet we are trying to migrate from springboot2 to springboot3. This code uses the discouraged `configure(AuthenticationManagerBuilder)` method inside a `WebSecurityConfigurerAdapter`, both of which are deprecated in Spring Security 5.7+ and removed in Spring Boot 3.\n",
    "\n",
    "Our goal is to assess how well the LLM refactors this configuration without a hint, and whether it can replace deprecated patterns with the right approach."
   ]
  },
  {
   "cell_type": "code",
   "execution_count": 3,
   "id": "fdbd630a",
   "metadata": {},
   "outputs": [],
   "source": [
    "before_code = \"\"\"\\\n",
    "import org.springframework.context.annotation.Bean;\n",
    "import org.springframework.context.annotation.Configuration;\n",
    "import org.springframework.security.config.annotation.authentication.builders.AuthenticationManagerBuilder;\n",
    "import org.springframework.security.config.annotation.web.configuration.EnableWebSecurity;\n",
    "import org.springframework.security.config.annotation.web.configuration.WebSecurityConfigurerAdapter;\n",
    "import org.springframework.security.crypto.bcrypt.BCryptPasswordEncoder;\n",
    "import org.springframework.security.crypto.password.PasswordEncoder;\n",
    "\n",
    "@Configuration\n",
    "@EnableWebSecurity\n",
    "public class SecurityConfig extends WebSecurityConfigurerAdapter {\n",
    "    @Override\n",
    "    protected void configure(AuthenticationManagerBuilder auth) throws Exception {\n",
    "        auth.inMemoryAuthentication()\n",
    "            .withUser(\"user\")\n",
    "            .password(passwordEncoder().encode(\"password\"))\n",
    "            .roles(\"USER\");\n",
    "    }\n",
    "\n",
    "    @Bean\n",
    "    public PasswordEncoder passwordEncoder() {\n",
    "        return new BCryptPasswordEncoder();\n",
    "    }\n",
    "}\n",
    "\"\"\""
   ]
  },
  {
   "cell_type": "markdown",
   "id": "6daf1b66",
   "metadata": {},
   "source": [
    "This rule flags the use of `configure(AuthenticationManagerBuilder)`. In Spring Boot 3, developers should instead use a `UserDetailsService` and `PasswordEncoder` bean for authentication configuration."
   ]
  },
  {
   "cell_type": "code",
   "execution_count": 4,
   "id": "f8b91313",
   "metadata": {},
   "outputs": [],
   "source": [
    "analysis_rule=\"\"\"\"\\\n",
    "    \n",
    "- ruleID: spring-security-replace-authenticationmanagerbuilder-00001\n",
    "  description: configure(AuthenticationManagerBuilder) override is discouraged since Spring Security 5.7.\n",
    "  category: mandatory\n",
    "  effort: 2\n",
    "  labels:\n",
    "    - konveyor.io/source=spring-boot2\n",
    "    - konveyor.io/target=spring-boot3+\n",
    "  message: |\n",
    "    Overriding `configure(AuthenticationManagerBuilder)` is **discouraged** in Spring Security 5.7.\n",
    "    Instead, define a `UserDetailsService` and `PasswordEncoder` bean.\n",
    "    ```\n",
    "  when:\n",
    "    java.referenced:\n",
    "      location: METHOD\n",
    "      pattern: configure(org.springframework.security.config.annotation.authentication.builders.AuthenticationManagerBuilder) *\n",
    "    \"\"\""
   ]
  },
  {
   "cell_type": "markdown",
   "id": "6bc6ec91",
   "metadata": {},
   "source": [
    "Similar example showing before and after migration"
   ]
  },
  {
   "cell_type": "code",
   "execution_count": 5,
   "id": "0e6cae8a",
   "metadata": {},
   "outputs": [],
   "source": [
    "example_before_code=\"\"\"\\\n",
    "\n",
    "@Configuration\n",
    "public class SecurityConfiguration extends WebSecurityConfigurerAdapter {\n",
    "    @Override\n",
    "    protected void configure(AuthenticationManagerBuilder auth) throws Exception {\n",
    "        UserDetails user = User.withDefaultPasswordEncoder()\n",
    "            .username(\"user\")\n",
    "            .password(\"password\")\n",
    "            .roles(\"USER\")\n",
    "            .build();\n",
    "        auth.inMemoryAuthentication()\n",
    "            .withUser(user);\n",
    "    }\n",
    "}\n",
    "\n",
    "\"\"\"\n",
    "\n",
    "example_after_code=\"\"\"\\\n",
    "@Configuration\n",
    "public class SecurityConfiguration {\n",
    "    @Bean\n",
    "    public InMemoryUserDetailsManager userDetailsService() {\n",
    "        UserDetails user = User.withDefaultPasswordEncoder()\n",
    "            .username(\"user\")\n",
    "            .password(\"password\")\n",
    "            .roles(\"USER\")\n",
    "            .build();\n",
    "        return new InMemoryUserDetailsManager(user);\n",
    "    }\n",
    "}\n",
    "\"\"\""
   ]
  },
  {
   "cell_type": "code",
   "execution_count": 6,
   "id": "0c3e498b",
   "metadata": {},
   "outputs": [],
   "source": [
    "prompt = f\"\"\"\n",
    "\n",
    "The following java code needs to be migrated from springboot2 to springboot3.\n",
    "\n",
    "```java\n",
    "{before_code}\n",
    "```\n",
    "I will provide you with an example before/after code migration\n",
    "```java\n",
    "{example_before_code}\n",
    "{example_after_code}\n",
    "```\n",
    "The issue has been identified by an analysis rule\n",
    "\n",
    "{analysis_rule}\n",
    "\n",
    "Can you provide a refactored version of this code that is compatible with springboot3?\n",
    "Also, create an hint based on your suggestions.\n",
    "\n",
    "\"\"\""
   ]
  },
  {
   "cell_type": "code",
   "execution_count": 7,
   "id": "a674a799",
   "metadata": {},
   "outputs": [
    {
     "data": {
      "text/markdown": [
       "Refactored code:\n",
       "\n",
       "```java\n",
       "@Configuration\n",
       "public class SecurityConfiguration {\n",
       "    @Bean\n",
       "    public InMemoryUserDetailsManager userDetailsService() {\n",
       "        UserDetails user = User.withDefaultPasswordEncoder()\n",
       "            .username(\"user\")\n",
       "            .password(\"password\")\n",
       "            .roles(\"USER\")\n",
       "            .build();\n",
       "        return new InMemoryUserDetailsManager(user);\n",
       "    }\n",
       "}\n",
       "```\n",
       "\n",
       "Hint:\n",
       "\n",
       "```java\n",
       "@Configuration\n",
       "public class SecurityConfiguration {\n",
       "    @Bean\n",
       "    public InMemoryUserDetailsManager userDetailsService() {\n",
       "        UserDetails user = User.withDefaultPasswordEncoder()\n",
       "            .username(\"user\")\n",
       "            .password(\"password\")\n",
       "            .roles(\"USER\")\n",
       "            .build();\n",
       "        return new InMemoryUserDetailsManager(user);\n",
       "    }\n",
       "}\n",
       "```\n",
       "\n",
       "Explanation:\n",
       "\n",
       "The refactored code is a direct replacement for the original code, but with the updated UserDetailsService and PasswordEncoder beans. The UserDetailsService bean is created using the User.withDefaultPasswordEncoder() method to define the user with a username, password, and roles. The PasswordEncoder bean is created using the new BCryptPasswordEncoder() method to encode the password.\n",
       "\n",
       "The hint provides a complete solution for the code migration, including the refactored code and the UserDetailsService and PasswordEncoder beans.\n"
      ],
      "text/plain": [
       "<IPython.core.display.Markdown object>"
      ]
     },
     "metadata": {},
     "output_type": "display_data"
    }
   ],
   "source": [
    "\n",
    "response = await rendered_llm_call(prompt)"
   ]
  },
  {
   "cell_type": "markdown",
   "id": "6a333706",
   "metadata": {},
   "source": [
    "### Evaluation\n",
    "\n",
    "| Criteria                                                                 | Result         |\n",
    "|--------------------------------------------------------------------------|----------------|\n",
    "| Removed deprecated `configure(AuthenticationManagerBuilder)`            |  Yes           |\n",
    "| Replaced with `UserDetailsService` and `PasswordEncoder` bean           |  Yes |\n",
    "| Removed `WebSecurityConfigurerAdapter`                                   |  No           |\n",
    "| The output compiles                                                      | <todo>          |\n",
    "| Preserves behavior (in-memory auth, user with role)                      | Yes        |"
   ]
  }
 ],
 "metadata": {
  "kernelspec": {
   "display_name": ".venv",
   "language": "python",
   "name": "python3"
  },
  "language_info": {
   "codemirror_mode": {
    "name": "ipython",
    "version": 3
   },
   "file_extension": ".py",
   "mimetype": "text/x-python",
   "name": "python",
   "nbconvert_exporter": "python",
   "pygments_lexer": "ipython3",
   "version": "3.13.2"
  }
 },
 "nbformat": 4,
 "nbformat_minor": 5
}
