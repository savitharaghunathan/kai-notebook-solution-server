{
 "cells": [
  {
   "cell_type": "markdown",
   "id": "129f17a3",
   "metadata": {},
   "source": [
    "# LLM \"No Hint\" Migration \n",
    "This notebook demonstrates how an LLM (using Kai's ModelProvider) performs when presented with a Spring Security migration issue without a hint."
   ]
  },
  {
   "cell_type": "markdown",
   "id": "a242cab4",
   "metadata": {},
   "source": [
    "Installing pre requisites and configuring Kai with `Llama-3.1-8B-Instruct`"
   ]
  },
  {
   "cell_type": "code",
   "execution_count": null,
   "id": "d13f827b",
   "metadata": {},
   "outputs": [],
   "source": [
    "%pip uninstall kai -y\n",
    "%pip install --no-cache-dir git+https://github.com/konveyor/kai.git@main\n",
    "%pip install python-dotenv"
   ]
  },
  {
   "cell_type": "code",
   "execution_count": 9,
   "id": "a2c074f1",
   "metadata": {},
   "outputs": [],
   "source": [
    "from IPython.display import display, Markdown\n",
    "from kai.llm_interfacing.model_provider import ModelProvider\n",
    "from kai.kai_config import KaiConfigModels, SupportedModelProviders\n",
    "from dotenv import load_dotenv\n",
    "import os\n",
    "load_dotenv(override=True) \n",
    "\n",
    "# Initialize the model provider using Llama-3.1-8B-Instruc via OpenAI\n",
    "model = ModelProvider.from_config(KaiConfigModels(\n",
    "    provider=SupportedModelProviders.CHAT_OPENAI,\n",
    "    args={\"model\": \"meta-llama/Llama-3.1-8B-Instruct\",\n",
    "        \"base_url\": \"https://llama-3-1-8b-instruct-maas-apicast-production.apps.prod.rhoai.rh-aiservices-bu.com:443/v1\",\n",
    "        \"api_key\": os.getenv(\"OPENAI_API_KEY\"),},\n",
    "))\n",
    "\n",
    "# Async rendering function for displaying the response\n",
    "async def rendered_llm_call(prompt: str):\n",
    "    response = await model.ainvoke_llm(prompt)\n",
    "    display(Markdown(response.content))\n",
    "    return response\n",
    "\n"
   ]
  },
  {
   "cell_type": "markdown",
   "id": "51d7620d",
   "metadata": {},
   "source": [
    "Below is the snippet we are trying to migrate from springboot2 to springboot3. This code uses the discouraged `configure(AuthenticationManagerBuilder)` method inside a `WebSecurityConfigurerAdapter`, both of which are deprecated in Spring Security 5.7+ and removed in Spring Boot 3.\n",
    "\n",
    "Our goal is to assess how well the LLM refactors this configuration without a hint, and whether it can replace deprecated patterns with the right approach."
   ]
  },
  {
   "cell_type": "code",
   "execution_count": 10,
   "id": "fdbd630a",
   "metadata": {},
   "outputs": [],
   "source": [
    "before_code = \"\"\"\\\n",
    "import org.springframework.context.annotation.Bean;\n",
    "import org.springframework.context.annotation.Configuration;\n",
    "import org.springframework.security.config.annotation.authentication.builders.AuthenticationManagerBuilder;\n",
    "import org.springframework.security.config.annotation.web.configuration.EnableWebSecurity;\n",
    "import org.springframework.security.config.annotation.web.configuration.WebSecurityConfigurerAdapter;\n",
    "import org.springframework.security.crypto.bcrypt.BCryptPasswordEncoder;\n",
    "import org.springframework.security.crypto.password.PasswordEncoder;\n",
    "\n",
    "@Configuration\n",
    "@EnableWebSecurity\n",
    "public class SecurityConfig extends WebSecurityConfigurerAdapter {\n",
    "    @Override\n",
    "    protected void configure(AuthenticationManagerBuilder auth) throws Exception {\n",
    "        auth.inMemoryAuthentication()\n",
    "            .withUser(\"user\")\n",
    "            .password(passwordEncoder().encode(\"password\"))\n",
    "            .roles(\"USER\");\n",
    "    }\n",
    "\n",
    "    @Bean\n",
    "    public PasswordEncoder passwordEncoder() {\n",
    "        return new BCryptPasswordEncoder();\n",
    "    }\n",
    "}\n",
    "\"\"\""
   ]
  },
  {
   "cell_type": "markdown",
   "id": "7fdf6848",
   "metadata": {},
   "source": [
    "This rule flags the use of `configure(AuthenticationManagerBuilder)`. In Spring Boot 3, developers should instead use a `UserDetailsService` and `PasswordEncoder` bean for authentication configuration."
   ]
  },
  {
   "cell_type": "code",
   "execution_count": 11,
   "id": "f8b91313",
   "metadata": {},
   "outputs": [],
   "source": [
    "message=\"\"\"\"\\\n",
    "  description: configure(AuthenticationManagerBuilder) override is discouraged since Spring Security 5.7.\n",
    "  message: |\n",
    "    Overriding `configure(AuthenticationManagerBuilder)` is **discouraged** in Spring Security 5.7.\n",
    "    Instead, define a `UserDetailsService` and `PasswordEncoder` bean.\n",
    "    \"\"\""
   ]
  },
  {
   "cell_type": "code",
   "execution_count": 12,
   "id": "0c3e498b",
   "metadata": {},
   "outputs": [],
   "source": [
    "prompt = f\"\"\"\n",
    "The following java code needs to be migrated from springboot2 to springboot3. \n",
    "\n",
    "```java\n",
    "{before_code}\n",
    "```\n",
    "The issue has been identified by an analysis rule\n",
    "\n",
    "{message}\n",
    "\n",
    "Can you provide a refactored version of this code that is compatible with springboot3?\n",
    "Also, create an hint based on your suggestions.\n",
    "\n",
    "\"\"\""
   ]
  },
  {
   "cell_type": "code",
   "execution_count": 13,
   "id": "a674a799",
   "metadata": {},
   "outputs": [
    {
     "data": {
      "text/markdown": [
       "Here's the refactored version of the code that is compatible with Spring Boot 3:\n",
       "\n",
       "```java\n",
       "import org.springframework.context.annotation.Bean;\n",
       "import org.springframework.context.annotation.Configuration;\n",
       "import org.springframework.security.config.annotation.authentication.builders.AuthenticationManagerBuilder;\n",
       "import org.springframework.security.config.annotation.web.configuration.EnableWebSecurity;\n",
       "import org.springframework.security.core.userdetails.UserDetailsService;\n",
       "import org.springframework.security.core.userdetails.UserDetails;\n",
       "import org.springframework.security.core.userdetails.UsernameNotFoundException;\n",
       "import org.springframework.security.crypto.bcrypt.BCryptPasswordEncoder;\n",
       "import org.springframework.security.crypto.password.PasswordEncoder;\n",
       "\n",
       "import java.util.Collections;\n",
       "\n",
       "@Configuration\n",
       "@EnableWebSecurity\n",
       "public class SecurityConfig {\n",
       "    @Bean\n",
       "    public UserDetailsService userDetailsService() {\n",
       "        return username -> {\n",
       "            if (username.equals(\"user\")) {\n",
       "                return new User(\"user\", passwordEncoder().encode(\"password\"), Collections.singleton(\"USER\"));\n",
       "            } else {\n",
       "                throw new UsernameNotFoundException(\"User not found\");\n",
       "            }\n",
       "        };\n",
       "    }\n",
       "\n",
       "    @Bean\n",
       "    public PasswordEncoder passwordEncoder() {\n",
       "        return new BCryptPasswordEncoder();\n",
       "    }\n",
       "\n",
       "    @Bean\n",
       "    public SecurityConfigurerAdapter<HttpSecurity, HttpSecurity> securityConfigurerAdapter() {\n",
       "        return http -> {\n",
       "            http.authorizeRequests()\n",
       "                    .antMatchers(\"/\").permitAll()\n",
       "                    .anyRequest().authenticated();\n",
       "        };\n",
       "    }\n",
       "}\n",
       "```\n",
       "\n",
       "However, the above code still uses the `configure(AuthenticationManagerBuilder)` method which is discouraged in Spring Security 5.7.\n",
       "\n",
       "Here's a better refactored version of the code that uses a `UserDetailsService` and `PasswordEncoder` bean:\n",
       "\n",
       "```java\n",
       "import org.springframework.context.annotation.Bean;\n",
       "import org.springframework.context.annotation.Configuration;\n",
       "import org.springframework.security.config.annotation.authentication.builders.AuthenticationManagerBuilder;\n",
       "import org.springframework.security.config.annotation.web.configuration.EnableWebSecurity;\n",
       "import org.springframework.security.core.userdetails.UserDetailsService;\n",
       "import org.springframework.security.core.userdetails.UserDetails;\n",
       "import org.springframework.security.core.userdetails.UsernameNotFoundException;\n",
       "import org.springframework.security.crypto.bcrypt.BCryptPasswordEncoder;\n",
       "import org.springframework.security.crypto.password.PasswordEncoder;\n",
       "\n",
       "import java.util.Collections;\n",
       "\n",
       "@Configuration\n",
       "@EnableWebSecurity\n",
       "public class SecurityConfig {\n",
       "    @Bean\n",
       "    public UserDetailsService userDetailsService() {\n",
       "        return username -> {\n",
       "            if (username.equals(\"user\")) {\n",
       "                return new User(\"user\", passwordEncoder().encode(\"password\"), Collections.singleton(\"USER\"));\n",
       "            } else {\n",
       "                throw new UsernameNotFoundException(\"User not found\");\n",
       "            }\n",
       "        };\n",
       "    }\n",
       "\n",
       "    @Bean\n",
       "    public PasswordEncoder passwordEncoder() {\n",
       "        return new BCryptPasswordEncoder();\n",
       "    }\n",
       "\n",
       "    @Bean\n",
       "    public SecurityConfigurerAdapter<HttpSecurity, HttpSecurity> securityConfigurerAdapter() {\n",
       "        return http -> {\n",
       "            http.authorizeRequests()\n",
       "                    .antMatchers(\"/\").permitAll()\n",
       "                    .anyRequest().authenticated();\n",
       "        };\n",
       "    }\n",
       "}\n",
       "```\n",
       "\n",
       "**Hint:** \n",
       "\n",
       "*   To fix the issue, you need to define a `UserDetailsService` and `PasswordEncoder` bean instead of overriding the `configure(AuthenticationManagerBuilder)` method.\n",
       "*   The `UserDetailsService` bean should return a `UserDetails` object for the given username.\n",
       "*   The `PasswordEncoder` bean should be used to encode the password.\n",
       "*   You can use the `BCryptPasswordEncoder` class to encode the password.\n",
       "*   You can use the `User` class from the `org.springframework.security.core.userdetails` package to create a `UserDetails` object.\n",
       "*   You can use the `Collections.singleton` method to create a set of roles for the user.\n",
       "\n",
       "**Best Practice:**\n",
       "\n",
       "*   Instead of hardcoding the username and password, consider using a database or an external authentication service to store user credentials.\n",
       "*   Consider using a more secure password encoder like `Argon2PasswordEncoder` or `PBKDF2PasswordEncoder` instead of `BCryptPasswordEncoder`.\n",
       "*   Consider using a more secure way to handle user authentication, such as using a token-based authentication system."
      ],
      "text/plain": [
       "<IPython.core.display.Markdown object>"
      ]
     },
     "metadata": {},
     "output_type": "display_data"
    }
   ],
   "source": [
    "\n",
    "response = await rendered_llm_call(prompt)"
   ]
  },
  {
   "cell_type": "markdown",
   "id": "6a333706",
   "metadata": {},
   "source": [
    "### Evaluation\n",
    "\n",
    "| Criteria                                                                 | Result         |\n",
    "|--------------------------------------------------------------------------|----------------|\n",
    "| Removed deprecated `configure(AuthenticationManagerBuilder)`            |  No           |\n",
    "| Replaced with `UserDetailsService` and `PasswordEncoder` bean           | Partially Yes |\n",
    "| Removed `WebSecurityConfigurerAdapter`                                   |  No           |\n",
    "| The output compiles                                                      | <todo>          |\n",
    "| Preserves behavior (in-memory auth, user with role)                      | No           |\n",
    "\n"
   ]
  }
 ],
 "metadata": {
  "kernelspec": {
   "display_name": ".venv",
   "language": "python",
   "name": "python3"
  },
  "language_info": {
   "codemirror_mode": {
    "name": "ipython",
    "version": 3
   },
   "file_extension": ".py",
   "mimetype": "text/x-python",
   "name": "python",
   "nbconvert_exporter": "python",
   "pygments_lexer": "ipython3",
   "version": "3.13.2"
  }
 },
 "nbformat": 4,
 "nbformat_minor": 5
}
