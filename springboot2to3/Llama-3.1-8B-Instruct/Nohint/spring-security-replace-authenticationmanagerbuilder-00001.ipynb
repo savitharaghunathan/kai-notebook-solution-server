{
 "cells": [
  {
   "cell_type": "markdown",
   "id": "129f17a3",
   "metadata": {},
   "source": [
    "# LLM \"No Hint\" Migration \n",
    "This notebook demonstrates how an LLM (using Kai's ModelProvider) performs when presented with a Spring Security migration issue without a hint."
   ]
  },
  {
   "cell_type": "markdown",
   "id": "a242cab4",
   "metadata": {},
   "source": [
    "Installing pre requisites and configuring Kai with `GPT-3.5-turbo`"
   ]
  },
  {
   "cell_type": "code",
   "execution_count": null,
   "id": "d13f827b",
   "metadata": {},
   "outputs": [],
   "source": [
    "%pip uninstall kai -y\n",
    "%pip install --no-cache-dir git+https://github.com/konveyor/kai.git@main\n",
    "%pip install python-dotenv"
   ]
  },
  {
   "cell_type": "code",
   "execution_count": 2,
   "id": "a2c074f1",
   "metadata": {},
   "outputs": [
    {
     "name": "stderr",
     "output_type": "stream",
     "text": [
      "/Users/sraghuna/local_dev/kai-notebook-solution-server/.venv/lib/python3.13/site-packages/tqdm/auto.py:21: TqdmWarning: IProgress not found. Please update jupyter and ipywidgets. See https://ipywidgets.readthedocs.io/en/stable/user_install.html\n",
      "  from .autonotebook import tqdm as notebook_tqdm\n"
     ]
    }
   ],
   "source": [
    "from IPython.display import display, Markdown\n",
    "from kai.llm_interfacing.model_provider import ModelProvider\n",
    "from kai.kai_config import KaiConfigModels, SupportedModelProviders\n",
    "from dotenv import load_dotenv\n",
    "import os\n",
    "load_dotenv(override=True) \n",
    "\n",
    "# Initialize the model provider using Llama-3.1-8B-Instruc via OpenAI\n",
    "model = ModelProvider.from_config(KaiConfigModels(\n",
    "    provider=SupportedModelProviders.CHAT_OPENAI,\n",
    "    args={\"model\": \"meta-llama/Llama-3.1-8B-Instruct\",\n",
    "        \"base_url\": \"https://llama-3-1-8b-instruct-maas-apicast-production.apps.prod.rhoai.rh-aiservices-bu.com:443/v1\",\n",
    "        \"api_key\": os.getenv(\"OPENAI_API_KEY\"),},\n",
    "))\n",
    "\n",
    "# Async rendering function for displaying the response\n",
    "async def rendered_llm_call(prompt: str):\n",
    "    response = await model.ainvoke_llm(prompt)\n",
    "    display(Markdown(response.content))\n",
    "    return response\n",
    "\n"
   ]
  },
  {
   "cell_type": "markdown",
   "id": "51d7620d",
   "metadata": {},
   "source": [
    "Below is the snippet we are trying to migrate from springboot2 to springboot3. This code uses the discouraged `configure(AuthenticationManagerBuilder)` method inside a `WebSecurityConfigurerAdapter`, both of which are deprecated in Spring Security 5.7+ and removed in Spring Boot 3.\n",
    "\n",
    "Our goal is to assess how well the LLM refactors this configuration without a hint, and whether it can replace deprecated patterns with the right approach."
   ]
  },
  {
   "cell_type": "code",
   "execution_count": 3,
   "id": "fdbd630a",
   "metadata": {},
   "outputs": [],
   "source": [
    "before_code = \"\"\"\\\n",
    "import org.springframework.context.annotation.Bean;\n",
    "import org.springframework.context.annotation.Configuration;\n",
    "import org.springframework.security.config.annotation.authentication.builders.AuthenticationManagerBuilder;\n",
    "import org.springframework.security.config.annotation.web.configuration.EnableWebSecurity;\n",
    "import org.springframework.security.config.annotation.web.configuration.WebSecurityConfigurerAdapter;\n",
    "import org.springframework.security.crypto.bcrypt.BCryptPasswordEncoder;\n",
    "import org.springframework.security.crypto.password.PasswordEncoder;\n",
    "\n",
    "@Configuration\n",
    "@EnableWebSecurity\n",
    "public class SecurityConfig extends WebSecurityConfigurerAdapter {\n",
    "    @Override\n",
    "    protected void configure(AuthenticationManagerBuilder auth) throws Exception {\n",
    "        auth.inMemoryAuthentication()\n",
    "            .withUser(\"user\")\n",
    "            .password(passwordEncoder().encode(\"password\"))\n",
    "            .roles(\"USER\");\n",
    "    }\n",
    "\n",
    "    @Bean\n",
    "    public PasswordEncoder passwordEncoder() {\n",
    "        return new BCryptPasswordEncoder();\n",
    "    }\n",
    "}\n",
    "\"\"\""
   ]
  },
  {
   "cell_type": "markdown",
   "id": "7fdf6848",
   "metadata": {},
   "source": [
    "This rule flags the use of `configure(AuthenticationManagerBuilder)`. In Spring Boot 3, developers should instead use a `UserDetailsService` and `PasswordEncoder` bean for authentication configuration."
   ]
  },
  {
   "cell_type": "code",
   "execution_count": 4,
   "id": "f8b91313",
   "metadata": {},
   "outputs": [],
   "source": [
    "analysis_rule=\"\"\"\"\\\n",
    "    \n",
    "  ruleID: spring-security-replace-authenticationmanagerbuilder-00001\n",
    "  description: configure(AuthenticationManagerBuilder) override is discouraged since Spring Security 5.7.\n",
    "  category: mandatory\n",
    "  effort: 2\n",
    "  labels:\n",
    "    - konveyor.io/source=spring-boot2\n",
    "    - konveyor.io/target=spring-boot3+\n",
    "  message: |\n",
    "    Overriding `configure(AuthenticationManagerBuilder)` is **discouraged** in Spring Security 5.7.\n",
    "    Instead, define a `UserDetailsService` and `PasswordEncoder` bean.\n",
    "    ```\n",
    "  when:\n",
    "    java.referenced:\n",
    "      location: METHOD\n",
    "      pattern: configure(org.springframework.security.config.annotation.authentication.builders.AuthenticationManagerBuilder) *\n",
    "    \"\"\""
   ]
  },
  {
   "cell_type": "code",
   "execution_count": 5,
   "id": "0c3e498b",
   "metadata": {},
   "outputs": [],
   "source": [
    "prompt = f\"\"\"\n",
    "The following java code needs to be migrated from springboot2 to springboot3. \n",
    "\n",
    "```java\n",
    "{before_code}\n",
    "```\n",
    "The issue has been identified by an analysis rule\n",
    "\n",
    "{analysis_rule}\n",
    "\n",
    "Can you provide a refactored version of this code that is compatible with springboot3?\n",
    "Also, create an hint based on your suggestions.\n",
    "\n",
    "\"\"\""
   ]
  },
  {
   "cell_type": "code",
   "execution_count": 6,
   "id": "a674a799",
   "metadata": {},
   "outputs": [
    {
     "data": {
      "text/markdown": [
       "Here's the refactored version of the code that is compatible with Spring Boot 3:\n",
       "\n",
       "```java\n",
       "import org.springframework.context.annotation.Bean;\n",
       "import org.springframework.context.annotation.Configuration;\n",
       "import org.springframework.security.config.annotation.authentication.configuration.AuthenticationConfiguration;\n",
       "import org.springframework.security.config.annotation.web.builders.HttpSecurity;\n",
       "import org.springframework.security.config.annotation.web.configuration.EnableWebSecurity;\n",
       "import org.springframework.security.crypto.bcrypt.BCryptPasswordEncoder;\n",
       "import org.springframework.security.crypto.password.PasswordEncoder;\n",
       "import org.springframework.security.provisioning.InMemoryUserDetailsManager;\n",
       "\n",
       "@Configuration\n",
       "@EnableWebSecurity\n",
       "public class SecurityConfig {\n",
       "    @Bean\n",
       "    public PasswordEncoder passwordEncoder() {\n",
       "        return new BCryptPasswordEncoder();\n",
       "    }\n",
       "\n",
       "    @Bean\n",
       "    public InMemoryUserDetailsManager userDetailsService(PasswordEncoder passwordEncoder) {\n",
       "        return new InMemoryUserDetailsManager(\n",
       "                java.util.Arrays.asList(\n",
       "                        new org.springframework.security.core.userdetails.User(\n",
       "                                \"user\",\n",
       "                                passwordEncoder.encode(\"password\"),\n",
       "                                java.util.Arrays.asList(\"USER\")\n",
       "                        )\n",
       "                )\n",
       "        );\n",
       "    }\n",
       "\n",
       "    @Bean\n",
       "    public org.springframework.security.config.annotation.web.configuration.WebSecurityConfigurerAdapter securityConfigurerAdapter(AuthenticationConfiguration authenticationConfiguration) throws Exception {\n",
       "        return new org.springframework.security.config.annotation.web.configuration.WebSecurityConfigurerAdapter() {\n",
       "            @Override\n",
       "            protected void configure(HttpSecurity http) throws Exception {\n",
       "                http.authorizeRequests()\n",
       "                        .anyRequest().authenticated();\n",
       "            }\n",
       "\n",
       "            @Override\n",
       "            protected void configure(org.springframework.security.config.annotation.authentication.builders.AuthenticationManagerBuilder auth) throws Exception {\n",
       "                auth.userDetailsService(userDetailsService(passwordEncoder()));\n",
       "            }\n",
       "        };\n",
       "    }\n",
       "}\n",
       "```\n",
       "\n",
       "**Hint:**\n",
       "\n",
       "To fix the analysis rule, you need to define a `UserDetailsService` and `PasswordEncoder` bean. \n",
       "\n",
       "1. Replace the `configure(AuthenticationManagerBuilder)` method with a `UserDetailsService` bean.\n",
       "2. Define a `PasswordEncoder` bean.\n",
       "3. In the `configure(HttpSecurity)` method, use the `userDetailsService` bean to configure the authentication manager.\n",
       "4. Use the `passwordEncoder` bean to encode the password.\n",
       "\n",
       "Note: The `WebSecurityConfigurerAdapter` is deprecated since Spring Security 5.7. It's recommended to use the `SecurityConfigurerAdapter` instead. However, in this example, we're using the deprecated class for simplicity."
      ],
      "text/plain": [
       "<IPython.core.display.Markdown object>"
      ]
     },
     "metadata": {},
     "output_type": "display_data"
    }
   ],
   "source": [
    "\n",
    "response = await rendered_llm_call(prompt)"
   ]
  },
  {
   "cell_type": "markdown",
   "id": "6a333706",
   "metadata": {},
   "source": [
    "### Evaluation\n",
    "\n",
    "| Criteria                                                                 | Result         |\n",
    "|--------------------------------------------------------------------------|----------------|\n",
    "| Removed deprecated `configure(AuthenticationManagerBuilder)`            |  No           |\n",
    "| Replaced with `UserDetailsService` and `PasswordEncoder` bean           | Partially Yes |\n",
    "| Removed `WebSecurityConfigurerAdapter`                                   |  No           |\n",
    "| The output compiles                                                      | <todo>          |\n",
    "| Preserves behavior (in-memory auth, user with role)                      | No           |\n",
    "\n"
   ]
  }
 ],
 "metadata": {
  "kernelspec": {
   "display_name": ".venv",
   "language": "python",
   "name": "python3"
  },
  "language_info": {
   "codemirror_mode": {
    "name": "ipython",
    "version": 3
   },
   "file_extension": ".py",
   "mimetype": "text/x-python",
   "name": "python",
   "nbconvert_exporter": "python",
   "pygments_lexer": "ipython3",
   "version": "3.13.2"
  }
 },
 "nbformat": 4,
 "nbformat_minor": 5
}
