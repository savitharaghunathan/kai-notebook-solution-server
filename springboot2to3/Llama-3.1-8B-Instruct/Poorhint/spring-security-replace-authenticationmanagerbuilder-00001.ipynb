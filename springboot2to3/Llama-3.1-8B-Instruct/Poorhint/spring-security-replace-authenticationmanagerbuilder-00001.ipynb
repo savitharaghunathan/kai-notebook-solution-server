{
 "cells": [
  {
   "cell_type": "markdown",
   "id": "83fe8cdb",
   "metadata": {},
   "source": [
    "# Poor hint Migration \n",
    "This notebook demonstrates how an LLM performs when presented with a Spring Security migration issue without an example.\n",
    "\n",
    "Installing pre requisites and configuring Kai with `Llama-3.1-8B-Instruct`"
   ]
  },
  {
   "cell_type": "code",
   "execution_count": null,
   "id": "d13f827b",
   "metadata": {},
   "outputs": [],
   "source": [
    "%pip uninstall kai -y\n",
    "%pip install --no-cache-dir git+https://github.com/konveyor/kai.git@main\n",
    "%pip install python-dotenv"
   ]
  },
  {
   "cell_type": "code",
   "execution_count": 30,
   "id": "a2c074f1",
   "metadata": {},
   "outputs": [],
   "source": [
    "from IPython.display import display, Markdown\n",
    "from kai.llm_interfacing.model_provider import ModelProvider\n",
    "from kai.kai_config import KaiConfigModels, SupportedModelProviders\n",
    "from dotenv import load_dotenv\n",
    "import os\n",
    "load_dotenv(override=True) \n",
    "# Initialize the model provider using Llama-3.1-8B-Instruc via OpenAI\n",
    "model = ModelProvider.from_config(KaiConfigModels(\n",
    "    provider=SupportedModelProviders.CHAT_OPENAI,\n",
    "    args={\"model\": \"meta-llama/Llama-3.1-8B-Instruct\",\n",
    "        \"base_url\": \"https://llama-3-1-8b-instruct-maas-apicast-production.apps.prod.rhoai.rh-aiservices-bu.com:443/v1\",\n",
    "        \"api_key\": os.getenv(\"OPENAI_API_KEY\"),},\n",
    "))\n",
    "\n",
    "# Async rendering function for displaying the response\n",
    "async def rendered_llm_call(prompt: str):\n",
    "    response = await model.ainvoke_llm(prompt)\n",
    "    display(Markdown(response.content))\n",
    "    return response\n",
    "\n"
   ]
  },
  {
   "cell_type": "markdown",
   "id": "788f1f7a",
   "metadata": {},
   "source": [
    "Below is the snippet we are trying to migrate from springboot2 to springboot3. This code uses the discouraged `configure(AuthenticationManagerBuilder)` method inside a `WebSecurityConfigurerAdapter`, both of which are deprecated in Spring Security 5.7+ and removed in Spring Boot 3.\n",
    "\n",
    "Our goal is to assess how well the LLM refactors this configuration without a hint, and whether it can replace deprecated patterns with the right approach."
   ]
  },
  {
   "cell_type": "code",
   "execution_count": 31,
   "id": "fdbd630a",
   "metadata": {},
   "outputs": [],
   "source": [
    "before_code = \"\"\"\\\n",
    "import org.springframework.context.annotation.Bean;\n",
    "import org.springframework.context.annotation.Configuration;\n",
    "import org.springframework.security.config.annotation.authentication.builders.AuthenticationManagerBuilder;\n",
    "import org.springframework.security.config.annotation.web.configuration.EnableWebSecurity;\n",
    "import org.springframework.security.config.annotation.web.configuration.WebSecurityConfigurerAdapter;\n",
    "import org.springframework.security.crypto.bcrypt.BCryptPasswordEncoder;\n",
    "import org.springframework.security.crypto.password.PasswordEncoder;\n",
    "\n",
    "@Configuration\n",
    "@EnableWebSecurity\n",
    "public class SecurityConfig extends WebSecurityConfigurerAdapter {\n",
    "    @Override\n",
    "    protected void configure(AuthenticationManagerBuilder auth) throws Exception {\n",
    "        auth.inMemoryAuthentication()\n",
    "            .withUser(\"user\")\n",
    "            .password(passwordEncoder().encode(\"password\"))\n",
    "            .roles(\"USER\");\n",
    "    }\n",
    "\n",
    "    @Bean\n",
    "    public PasswordEncoder passwordEncoder() {\n",
    "        return new BCryptPasswordEncoder();\n",
    "    }\n",
    "}\n",
    "\"\"\""
   ]
  },
  {
   "cell_type": "markdown",
   "id": "6daf1b66",
   "metadata": {},
   "source": [
    "This rule flags the use of `configure(AuthenticationManagerBuilder)`. In Spring Boot 3, developers should instead use a `UserDetailsService` and `PasswordEncoder` bean for authentication configuration."
   ]
  },
  {
   "cell_type": "code",
   "execution_count": 32,
   "id": "f8b91313",
   "metadata": {},
   "outputs": [],
   "source": [
    "message=\"\"\"\"\\\n",
    "\n",
    "  description: configure(AuthenticationManagerBuilder) override is discouraged since Spring Security 5.7.\n",
    "  message: |\n",
    "    Overriding `configure(AuthenticationManagerBuilder)` is **discouraged** in Spring Security 5.7.\n",
    "    Instead, define a `UserDetailsService` and `PasswordEncoder` bean.\n",
    "    \"\"\""
   ]
  },
  {
   "cell_type": "markdown",
   "id": "6bc6ec91",
   "metadata": {},
   "source": [
    "Similar example showing before and after migration"
   ]
  },
  {
   "cell_type": "code",
   "execution_count": 33,
   "id": "0e6cae8a",
   "metadata": {},
   "outputs": [],
   "source": [
    "example_before_code=\"\"\"\\\n",
    "\n",
    "@Configuration\n",
    "public class SecurityConfiguration extends WebSecurityConfigurerAdapter {\n",
    "    @Override\n",
    "    protected void configure(AuthenticationManagerBuilder auth) throws Exception {\n",
    "        UserDetails user = User.withDefaultPasswordEncoder()\n",
    "            .username(\"user\")\n",
    "            .password(\"password\")\n",
    "            .roles(\"USER\")\n",
    "            .build();\n",
    "        auth.inMemoryAuthentication()\n",
    "            .withUser(user);\n",
    "    }\n",
    "}\n",
    "\n",
    "\"\"\"\n",
    "\n",
    "example_after_code=\"\"\"\\\n",
    "@Configuration\n",
    "public class SecurityConfiguration {\n",
    "    @Bean\n",
    "    public InMemoryUserDetailsManager userDetailsService() {\n",
    "        UserDetails user = User.withDefaultPasswordEncoder()\n",
    "            .username(\"user\")\n",
    "            .password(\"password\")\n",
    "            .roles(\"USER\")\n",
    "            .build();\n",
    "        return new InMemoryUserDetailsManager(user);\n",
    "    }\n",
    "}\n",
    "\"\"\""
   ]
  },
  {
   "cell_type": "code",
   "execution_count": 34,
   "id": "0c3e498b",
   "metadata": {},
   "outputs": [],
   "source": [
    "prompt = f\"\"\"\n",
    "\n",
    "The following java code needs to be migrated from springboot2 to springboot3.\n",
    "\n",
    "```java\n",
    "{before_code}\n",
    "```\n",
    "I will provide you with an example before/after code migration\n",
    "```java\n",
    "{example_before_code}\n",
    "{example_after_code}\n",
    "```\n",
    "The issue has been identified by an analysis rule\n",
    "\n",
    "{message}\n",
    "\n",
    "Can you provide a refactored version of this code that is compatible with springboot3?\n",
    "Also, create an hint based on your suggestions.\n",
    "\n",
    "\"\"\""
   ]
  },
  {
   "cell_type": "code",
   "execution_count": 35,
   "id": "a674a799",
   "metadata": {},
   "outputs": [
    {
     "data": {
      "text/markdown": [
       "Here's the refactored version of the code that is compatible with Spring Boot 3:\n",
       "\n",
       "```java\n",
       "import org.springframework.context.annotation.Bean;\n",
       "import org.springframework.context.annotation.Configuration;\n",
       "import org.springframework.security.config.annotation.authentication.builders.AuthenticationManagerBuilder;\n",
       "import org.springframework.security.config.annotation.web.configuration.EnableWebSecurity;\n",
       "import org.springframework.security.core.userdetails.User;\n",
       "import org.springframework.security.core.userdetails.UserDetailsService;\n",
       "import org.springframework.security.crypto.bcrypt.BCryptPasswordEncoder;\n",
       "import org.springframework.security.crypto.password.PasswordEncoder;\n",
       "\n",
       "@Configuration\n",
       "@EnableWebSecurity\n",
       "public class SecurityConfig {\n",
       "    @Bean\n",
       "    public UserDetailsService userDetailsService() {\n",
       "        return new UserDetailsService() {\n",
       "            @Override\n",
       "            public UserDetails loadUserByUsername(String username) throws UsernameNotFoundException {\n",
       "                return User.withDefaultPasswordEncoder()\n",
       "                        .username(\"user\")\n",
       "                        .password(\"password\")\n",
       "                        .roles(\"USER\")\n",
       "                        .build();\n",
       "            }\n",
       "        };\n",
       "    }\n",
       "\n",
       "    @Bean\n",
       "    public PasswordEncoder passwordEncoder() {\n",
       "        return new BCryptPasswordEncoder();\n",
       "    }\n",
       "}\n",
       "```\n",
       "\n",
       "**Hint:** \n",
       "\n",
       "To migrate your Spring Security configuration to Spring Boot 3, consider the following best practices:\n",
       "\n",
       "1.  **Define a `UserDetailsService` bean**: Instead of overriding `configure(AuthenticationManagerBuilder)`, define a `UserDetailsService` bean that loads user details from a data source (e.g., database, in-memory).\n",
       "2.  **Use `User.withDefaultPasswordEncoder()`**: This method creates a `UserDetails` object with default password encoding. You can customize the password encoding by providing a custom `PasswordEncoder` bean.\n",
       "3.  **Use a `PasswordEncoder` bean**: Define a `PasswordEncoder` bean to handle password encoding and decoding. In this example, we use `BCryptPasswordEncoder`.\n",
       "4.  **Avoid overriding `configure(AuthenticationManagerBuilder)`**: This method is discouraged in Spring Security 5.7 and later versions. Instead, focus on defining a `UserDetailsService` and `PasswordEncoder` bean.\n",
       "\n",
       "By following these best practices, you can create a secure and maintainable Spring Security configuration that is compatible with Spring Boot 3."
      ],
      "text/plain": [
       "<IPython.core.display.Markdown object>"
      ]
     },
     "metadata": {},
     "output_type": "display_data"
    }
   ],
   "source": [
    "\n",
    "response = await rendered_llm_call(prompt)"
   ]
  },
  {
   "cell_type": "markdown",
   "id": "6a333706",
   "metadata": {},
   "source": [
    "### Evaluation\n",
    "TODO: chek if User.withDefaultPasswordEncoder() is valid?\n",
    "\n",
    "\n",
    "| Criteria                                                                 | Result         |\n",
    "|--------------------------------------------------------------------------|----------------|\n",
    "| Removed deprecated `configure(AuthenticationManagerBuilder)`            |  Yes           |\n",
    "| Replaced with `UserDetailsService` and `PasswordEncoder` bean           |  Yes |\n",
    "| Removed `WebSecurityConfigurerAdapter`                                   |  Yes           |\n",
    "| The output compiles                                                      | <todo>          |\n",
    "| Preserves behavior (in-memory auth, user with role)                      | Yes        |"
   ]
  }
 ],
 "metadata": {
  "kernelspec": {
   "display_name": ".venv",
   "language": "python",
   "name": "python3"
  },
  "language_info": {
   "codemirror_mode": {
    "name": "ipython",
    "version": 3
   },
   "file_extension": ".py",
   "mimetype": "text/x-python",
   "name": "python",
   "nbconvert_exporter": "python",
   "pygments_lexer": "ipython3",
   "version": "3.13.2"
  }
 },
 "nbformat": 4,
 "nbformat_minor": 5
}
