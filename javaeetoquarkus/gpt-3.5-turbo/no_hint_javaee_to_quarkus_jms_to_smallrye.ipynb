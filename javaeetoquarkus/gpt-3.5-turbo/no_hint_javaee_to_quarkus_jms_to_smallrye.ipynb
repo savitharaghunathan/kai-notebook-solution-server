{
 "cells": [
  {
   "cell_type": "markdown",
   "id": "83fe8cdb",
   "metadata": {},
   "source": [
    "# Hint Strategy 1\n",
    "This notebook demonstrates how an LLM performs when presented with a Javaee -> Quarkus JMS issue and provide a hint that can be used to improve the basic rule.\n",
    "Installing pre requisites and configuring Kai with `GPT-4o-mini`"
   ]
  },
  {
   "cell_type": "code",
   "execution_count": 1,
   "id": "d13f827b",
   "metadata": {},
   "outputs": [
    {
     "name": "stdout",
     "output_type": "stream",
     "text": [
      "\u001b[33mWARNING: Skipping kai as it is not installed.\u001b[0m\u001b[33m\n",
      "\u001b[0mNote: you may need to restart the kernel to use updated packages.\n",
      "Collecting git+https://github.com/konveyor/kai.git@main\n",
      "  Cloning https://github.com/konveyor/kai.git (to revision main) to /private/var/folders/4f/bv2hh9jd44b94_4zf2qby2sh0000gn/T/pip-req-build-w9h_3njt\n",
      "  Running command git clone --filter=blob:none --quiet https://github.com/konveyor/kai.git /private/var/folders/4f/bv2hh9jd44b94_4zf2qby2sh0000gn/T/pip-req-build-w9h_3njt\n",
      "  error: 1017 bytes of body are still expected\n",
      "  fetch-pack: unexpected disconnect while reading sideband packet\n",
      "  fatal: early EOF\n",
      "  fatal: fetch-pack: invalid index-pack output\n",
      "  fatal: could not fetch bc948d62498a2ca123c6c9426b5dc88876ebf7f5 from promisor remote\n",
      "  warning: Clone succeeded, but checkout failed.\n",
      "  You can inspect what was checked out with 'git status'\n",
      "  and retry with 'git restore --source=HEAD :/'\n",
      "\n",
      "  \u001b[1;31merror\u001b[0m: \u001b[1msubprocess-exited-with-error\u001b[0m\n",
      "  \n",
      "  \u001b[31m×\u001b[0m \u001b[32mgit clone --\u001b[0m\u001b[32mfilter\u001b[0m\u001b[32m=\u001b[0m\u001b[32mblob\u001b[0m\u001b[32m:none --quiet \u001b[0m\u001b[4;32mhttps://github.com/konveyor/kai.git\u001b[0m\u001b[32m \u001b[0m\u001b[32m/private/var/folders/4f/bv2hh9jd44b94_4zf2qby2sh0000gn/T/\u001b[0m\u001b[32mpip-req-build-w9h_3njt\u001b[0m did not run successfully.\n",
      "  \u001b[31m│\u001b[0m exit code: \u001b[1;36m128\u001b[0m\n",
      "  \u001b[31m╰─>\u001b[0m See above for output.\n",
      "  \n",
      "  \u001b[1;35mnote\u001b[0m: This error originates from a subprocess, and is likely not a problem with pip.\n",
      "\n",
      "\u001b[1m[\u001b[0m\u001b[34;49mnotice\u001b[0m\u001b[1;39;49m]\u001b[0m\u001b[39;49m A new release of pip is available: \u001b[0m\u001b[31;49m25.0.1\u001b[0m\u001b[39;49m -> \u001b[0m\u001b[32;49m25.1.1\u001b[0m\n",
      "\u001b[1m[\u001b[0m\u001b[34;49mnotice\u001b[0m\u001b[1;39;49m]\u001b[0m\u001b[39;49m To update, run: \u001b[0m\u001b[32;49mpip install --upgrade pip\u001b[0m\n",
      "\u001b[1;31merror\u001b[0m: \u001b[1msubprocess-exited-with-error\u001b[0m\n",
      "\n",
      "\u001b[31m×\u001b[0m \u001b[32mgit clone --\u001b[0m\u001b[32mfilter\u001b[0m\u001b[32m=\u001b[0m\u001b[32mblob\u001b[0m\u001b[32m:none --quiet \u001b[0m\u001b[4;32mhttps://github.com/konveyor/kai.git\u001b[0m\u001b[32m \u001b[0m\u001b[32m/private/var/folders/4f/bv2hh9jd44b94_4zf2qby2sh0000gn/T/\u001b[0m\u001b[32mpip-req-build-w9h_3njt\u001b[0m did not run successfully.\n",
      "\u001b[31m│\u001b[0m exit code: \u001b[1;36m128\u001b[0m\n",
      "\u001b[31m╰─>\u001b[0m See above for output.\n",
      "\n",
      "\u001b[1;35mnote\u001b[0m: This error originates from a subprocess, and is likely not a problem with pip.\n",
      "Note: you may need to restart the kernel to use updated packages.\n",
      "Requirement already satisfied: python-dotenv in /Users/sraghuna/local_dev/kai-notebook-solution-server/.venv/lib/python3.13/site-packages (1.0.1)\n",
      "\n",
      "\u001b[1m[\u001b[0m\u001b[34;49mnotice\u001b[0m\u001b[1;39;49m]\u001b[0m\u001b[39;49m A new release of pip is available: \u001b[0m\u001b[31;49m25.0.1\u001b[0m\u001b[39;49m -> \u001b[0m\u001b[32;49m25.1\u001b[0m\n",
      "\u001b[1m[\u001b[0m\u001b[34;49mnotice\u001b[0m\u001b[1;39;49m]\u001b[0m\u001b[39;49m To update, run: \u001b[0m\u001b[32;49mpip install --upgrade pip\u001b[0m\n",
      "Note: you may need to restart the kernel to use updated packages.\n"
     ]
    }
   ],
   "source": [
    "%pip uninstall kai -y\n",
    "%pip install --no-cache-dir git+https://github.com/konveyor/kai.git@main\n",
    "%pip install python-dotenv"
   ]
  },
  {
   "cell_type": "code",
   "execution_count": 2,
   "id": "a2c074f1",
   "metadata": {},
   "outputs": [
    {
     "name": "stderr",
     "output_type": "stream",
     "text": [
      "/Users/sraghuna/local_dev/kai-notebook-solution-server/.venv/lib/python3.13/site-packages/tqdm/auto.py:21: TqdmWarning: IProgress not found. Please update jupyter and ipywidgets. See https://ipywidgets.readthedocs.io/en/stable/user_install.html\n",
      "  from .autonotebook import tqdm as notebook_tqdm\n"
     ]
    }
   ],
   "source": [
    "from IPython.display import display, Markdown\n",
    "from kai.llm_interfacing.model_provider import ModelProvider\n",
    "from kai.kai_config import KaiConfigModels, SupportedModelProviders\n",
    "from dotenv import load_dotenv\n",
    "load_dotenv() \n",
    "\n",
    "# Initialize the model provider using GPT-4o via OpenAI\n",
    "model = ModelProvider.from_config(KaiConfigModels(\n",
    "    provider=SupportedModelProviders.CHAT_OPENAI,\n",
    "    args={\"model\": \"gpt-3.5-turbo\",\n",
    "          \"temperature\": 0.1,},\n",
    "))\n",
    "\n",
    "# Async rendering function for displaying the response\n",
    "async def rendered_llm_call(prompt: str):\n",
    "    response = await model.ainvoke_llm(prompt)\n",
    "    display(Markdown(response.content))\n",
    "    return response\n",
    "\n"
   ]
  },
  {
   "cell_type": "markdown",
   "id": "788f1f7a",
   "metadata": {},
   "source": [
    "Below is the snippet we are trying to migrate from javaee to Qusrkus. This code uses JMS which needs to be migarted to Quarkus equivalent.\n",
    "Our goal is to assess how well the LLM refactors this configuration without a hint, and whether it can replace deprecated patterns with the right approach."
   ]
  },
  {
   "cell_type": "code",
   "execution_count": 3,
   "id": "fdbd630a",
   "metadata": {},
   "outputs": [],
   "source": [
    "before_code = \"\"\"\\\n",
    "import javax.jms.* \n",
    "\n",
    "public class InventoryNotificationMDB implements MessageListener {\n",
    "\n",
    "    private static final int LOW_THRESHOLD = 50;\n",
    "\n",
    "    @Inject\n",
    "    private CatalogService catalogService;\n",
    "\n",
    "    private final static String JNDI_FACTORY = \"weblogic.jndi.WLInitialContextFactory\";\n",
    "    private final static String JMS_FACTORY = \"TCF\";\n",
    "    private final static String TOPIC = \"topic/orders\";\n",
    "    private TopicConnection tcon;\n",
    "    private TopicSession tsession;\n",
    "    private TopicSubscriber tsubscriber;\n",
    "\n",
    "    public void onMessage(Message rcvMessage) {\n",
    "        TextMessage msg;\n",
    "        {\n",
    "            try {\n",
    "                System.out.println(\"received message inventory\");\n",
    "                if (rcvMessage instanceof TextMessage) {\n",
    "                    msg = (TextMessage) rcvMessage;\n",
    "                    String orderStr = msg.getBody(String.class);\n",
    "                    Order order = Transformers.jsonToOrder(orderStr);\n",
    "                    order.getItemList().forEach(orderItem -> {\n",
    "                        int old_quantity = catalogService.getCatalogItemById(orderItem.getProductId()).getInventory().getQuantity();\n",
    "                        int new_quantity = old_quantity - orderItem.getQuantity();\n",
    "                        if (new_quantity < LOW_THRESHOLD) {\n",
    "                            System.out.println(\"Inventory for item \" + orderItem.getProductId() + \" is below threshold (\" + LOW_THRESHOLD + \"), contact supplier!\");\n",
    "                        } else {\n",
    "                            orderItem.setQuantity(new_quantity);\n",
    "                        }\n",
    "                    });\n",
    "                }\n",
    "\n",
    "\n",
    "            } catch (JMSException jmse) {\n",
    "                System.err.println(\"An exception occurred: \" + jmse.getMessage());\n",
    "            }\n",
    "        }\n",
    "    }\n",
    "    }\n",
    "\"\"\""
   ]
  },
  {
   "cell_type": "markdown",
   "id": "6daf1b66",
   "metadata": {},
   "source": [
    "This rule flags suggests migrating javaee JMS referesnces with Quarkus specific ones."
   ]
  },
  {
   "cell_type": "code",
   "execution_count": 4,
   "id": "f8b91313",
   "metadata": {},
   "outputs": [],
   "source": [
    "hint_to_migrate=\"\"\"\\\n",
    "    \n",
    "  description:  References to JavaEE/JakartaEE JMS elements should be removed and replaced with their Quarkus SmallRye/Microprofile equivalents.\n",
    "  message: |\n",
    "   References to JavaEE/JakartaEE JMS elements should be removed and replaced with their Quarkus SmallRye/Microprofile equivalents.\n",
    "\n",
    "    \"\"\""
   ]
  },
  {
   "cell_type": "code",
   "execution_count": 8,
   "id": "981ab9d9",
   "metadata": {},
   "outputs": [],
   "source": [
    "source=\"javaee\"\n",
    "target=\"quarkus, jakarta-ee\""
   ]
  },
  {
   "cell_type": "code",
   "execution_count": 9,
   "id": "0c3e498b",
   "metadata": {},
   "outputs": [],
   "source": [
    "prompt = f\"\"\"\n",
    "\n",
    "The following java code needs to be migrated from {source} to {target}.\n",
    "\n",
    "```java\n",
    "{before_code}\n",
    "```\n",
    "\n",
    "Use the following hint's description and message to migrate. \n",
    "\n",
    "{hint_to_migrate}\n",
    "\n",
    "Also, remove the deprecated and unused APIs and suggest the correct alternatives based on the migration needs. \n",
    "\n",
    "Can you provide a refactored version of {before_code} that is compatible with {target}?\n",
    "Also, create a step by step process for the above migration? Summarize and create a hint with the changes.\n",
    "\n",
    "\"\"\""
   ]
  },
  {
   "cell_type": "code",
   "execution_count": 10,
   "id": "a674a799",
   "metadata": {},
   "outputs": [
    {
     "data": {
      "text/markdown": [
       "To migrate the given code from JavaEE to Quarkus with Jakarta EE, we need to replace the JMS elements with their Quarkus SmallRye/Microprofile equivalents. Here is the refactored version of the code:\n",
       "\n",
       "```java\n",
       "import org.eclipse.microprofile.reactive.messaging.Incoming;\n",
       "\n",
       "public class InventoryNotificationMDB {\n",
       "\n",
       "    private static final int LOW_THRESHOLD = 50;\n",
       "\n",
       "    @Inject\n",
       "    private CatalogService catalogService;\n",
       "\n",
       "    @Incoming(\"orders\")\n",
       "    public void onMessage(String orderStr) {\n",
       "        Order order = Transformers.jsonToOrder(orderStr);\n",
       "        order.getItemList().forEach(orderItem -> {\n",
       "            int old_quantity = catalogService.getCatalogItemById(orderItem.getProductId()).getInventory().getQuantity();\n",
       "            int new_quantity = old_quantity - orderItem.getQuantity();\n",
       "            if (new_quantity < LOW_THRESHOLD) {\n",
       "                System.out.println(\"Inventory for item \" + orderItem.getProductId() + \" is below threshold (\" + LOW_THRESHOLD + \"), contact supplier!\");\n",
       "            } else {\n",
       "                orderItem.setQuantity(new_quantity);\n",
       "            }\n",
       "        });\n",
       "    }\n",
       "}\n",
       "```\n",
       "\n",
       "Step by step process for the migration:\n",
       "1. Replace the import statement from `javax.jms.*` to `org.eclipse.microprofile.reactive.messaging.Incoming`.\n",
       "2. Remove the JNDI_FACTORY, JMS_FACTORY, and TOPIC constants as they are not needed in Quarkus.\n",
       "3. Remove the TopicConnection, TopicSession, and TopicSubscriber variables as they are not needed in Quarkus.\n",
       "4. Change the `onMessage` method signature to accept a String parameter instead of a Message parameter.\n",
       "5. Update the method logic to process the incoming message directly as a String.\n",
       "6. Update the method logic to use the `@Incoming` annotation with the appropriate channel name (\"orders\" in this case).\n",
       "\n",
       "Hint: References to JavaEE/JakartaEE JMS elements should be removed and replaced with their Quarkus SmallRye/Microprofile equivalents."
      ],
      "text/plain": [
       "<IPython.core.display.Markdown object>"
      ]
     },
     "metadata": {},
     "output_type": "display_data"
    }
   ],
   "source": [
    "\n",
    "response = await rendered_llm_call(prompt)"
   ]
  }
 ],
 "metadata": {
  "kernelspec": {
   "display_name": ".venv",
   "language": "python",
   "name": "python3"
  },
  "language_info": {
   "codemirror_mode": {
    "name": "ipython",
    "version": 3
   },
   "file_extension": ".py",
   "mimetype": "text/x-python",
   "name": "python",
   "nbconvert_exporter": "python",
   "pygments_lexer": "ipython3",
   "version": "3.13.2"
  }
 },
 "nbformat": 4,
 "nbformat_minor": 5
}
